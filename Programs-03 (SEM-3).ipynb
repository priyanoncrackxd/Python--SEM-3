{
 "cells": [
  {
   "cell_type": "code",
   "execution_count": 4,
   "id": "3f19c3b2-3e36-46fc-9c94-01b8c7fe1cb4",
   "metadata": {},
   "outputs": [
    {
     "name": "stdin",
     "output_type": "stream",
     "text": [
      "Please enter your name: uuu\n"
     ]
    },
    {
     "name": "stdout",
     "output_type": "stream",
     "text": [
      "Hello,uuu!\n"
     ]
    }
   ],
   "source": [
    "\"\"\" Modify your greeting program so that if the user does not enter a name\n",
    "(i.e. they just press enter), the program responds \"Hello, Stranger!\". \n",
    "Otherwise it should print a greeting with their name as before.\"\"\"\n",
    "\n",
    "username=input(\"Please enter your name:\")\n",
    "if username:\n",
    "    print(f\"Hello,{username}!\")\n",
    "else:\n",
    "    print(\"Hello, Stranger!\")\n"
   ]
  },
  {
   "cell_type": "code",
   "execution_count": 6,
   "id": "876bf2b1-bfd6-40f0-a5bb-ca033d0ee401",
   "metadata": {},
   "outputs": [
    {
     "name": "stdin",
     "output_type": "stream",
     "text": [
      "Enter a strong password: alex\n",
      "Enter new password: priyanshu\n"
     ]
    },
    {
     "name": "stdout",
     "output_type": "stream",
     "text": [
      "new password=priyanshu\n"
     ]
    }
   ],
   "source": [
    "''' Write a program that simulates the way in which a user might choose a password.\n",
    " The program should prompt for a new password, and then prompt again. \n",
    " If the two passwords entered are the same the program should say \"Password Set\" or similar\n",
    " otherwise it should report an error.'''\n",
    "\n",
    "password=input(\"Enter a strong password:\")\n",
    "new_password=input(\"Enter new password:\")\n",
    "if password==new_password:\n",
    "    print(\"This password has been set already!!\")\n",
    "else:\n",
    "    print(f\"new password={new_password}\")\n"
   ]
  },
  {
   "cell_type": "code",
   "execution_count": 8,
   "id": "a0a90008-3dae-44ee-84bf-c1b83f3ff7b8",
   "metadata": {},
   "outputs": [
    {
     "name": "stdin",
     "output_type": "stream",
     "text": [
      "Enter a new password consisting of 8-12 characters: priyanshu\n",
      "Re-enter your password to confirm:  priyanshu\n"
     ]
    },
    {
     "name": "stdout",
     "output_type": "stream",
     "text": [
      "Password Set Successfully!\n"
     ]
    }
   ],
   "source": [
    "\"\"\"Modify your previous program so that the password must be between 8 and 12\n",
    " characters (inclusive) long.\"\"\"\n",
    "\n",
    "pw1 = input(\"Enter a new password consisting of 8-12 characters:\")\n",
    "\n",
    "if len(pw1)<8 or len(pw1)>12:\n",
    "    print(\"Password must be between 8 and 12 characters.\")\n",
    "else:\n",
    "    \n",
    "    pw2 = input(\"Re-enter your password to confirm: \")\n",
    "    \n",
    "    if pw1==pw2:\n",
    "        print(\"Password Set Successfully!\")\n",
    "    else:\n",
    "        print(\"Error: Passwords do not match. Please try again.\")\n",
    "\n",
    "\n",
    "\n",
    "\n"
   ]
  },
  {
   "cell_type": "code",
   "execution_count": 15,
   "id": "1ac9e345-bc2d-43f6-8a84-18a92bbd60e5",
   "metadata": {},
   "outputs": [
    {
     "name": "stdin",
     "output_type": "stream",
     "text": [
      "Enter a new password password\n"
     ]
    },
    {
     "name": "stdout",
     "output_type": "stream",
     "text": [
      "The password that you have chosen isnt valid, Try again!!\n"
     ]
    }
   ],
   "source": [
    "\"\"\"Modify your program again so that the chosen password cannot be one of a list of common passwords, defined thus:\n",
    "BAD_PASSWORDS = ['password', 'letmein', 'sesame', 'hello', 'justinbieber']\"\"\"\n",
    "\n",
    "pw1 = input(\"Enter a new password\")\n",
    "BAD_PASSWORDS = ['password', 'letmein', 'sesame', 'hello', 'justinbieber']\n",
    "\n",
    "if pw1 in BAD_PASSWORDS:\n",
    "        print(\"The password that you have chosen isnt valid, Try again!!\")\n",
    "else:\n",
    "        print(\"Password set successfully\")\n"
   ]
  },
  {
   "cell_type": "code",
   "execution_count": null,
   "id": "2a070043-a480-4122-9308-d2bec960fcc9",
   "metadata": {},
   "outputs": [],
   "source": []
  }
 ],
 "metadata": {
  "kernelspec": {
   "display_name": "Python 3 (ipykernel)",
   "language": "python",
   "name": "python3"
  },
  "language_info": {
   "codemirror_mode": {
    "name": "ipython",
    "version": 3
   },
   "file_extension": ".py",
   "mimetype": "text/x-python",
   "name": "python",
   "nbconvert_exporter": "python",
   "pygments_lexer": "ipython3",
   "version": "3.13.1"
  }
 },
 "nbformat": 4,
 "nbformat_minor": 5
}
