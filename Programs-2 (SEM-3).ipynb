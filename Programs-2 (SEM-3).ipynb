{
 "cells": [
  {
   "cell_type": "code",
   "execution_count": 1,
   "id": "007b75e8-c308-4389-9323-69a721db9031",
   "metadata": {},
   "outputs": [
    {
     "name": "stdin",
     "output_type": "stream",
     "text": [
      "Enter your name: priyanshu\n"
     ]
    },
    {
     "name": "stdout",
     "output_type": "stream",
     "text": [
      "Hello, priyanshu . Good to meet you\n"
     ]
    }
   ],
   "source": [
    "'''Last week you wrote a program that printed out a cheery greeting including your name. \n",
    "Take a copy of it, and modify it so that the user enters their name at the keyboard, and then receives a greeting. '''\n",
    "a=(input(\"Enter your name:\"))\n",
    "print(f\"Hello, {a} . Good to meet you\")"
   ]
  },
  {
   "cell_type": "code",
   "execution_count": null,
   "id": "d744ec7c-c305-4ee1-a936-1fbfe209fea7",
   "metadata": {},
   "outputs": [],
   "source": [
    "'''Write a program that prompts a user to enter a temperature in Celsius, and then displays the corresponding temperature in Fahrenheit, like so:\n",
    " Enter a temperature in Celsius: 32.5\n",
    " 32.5C is equivalent to 90.5F.'''\n",
    "\n",
    "celsius=float(input(\"Enter a temperature of your choice in Celsius:\")) #this takes input\n",
    "fahrenheit=(celsius *9/5)+32 #converting celsius into fahrenheit\n",
    "print(f\"{celsius}C is equal to {fahrenheit}F\") #to display both celsius and fahrenheit to show the comparison"
   ]
  },
  {
   "cell_type": "code",
   "execution_count": 10,
   "id": "5d23f206-5fed-4657-9930-6ffd33b20223",
   "metadata": {},
   "outputs": [
    {
     "name": "stdin",
     "output_type": "stream",
     "text": [
      "Enter the number of students present: 66\n",
      "Enter the number of group size: 11\n"
     ]
    },
    {
     "name": "stdout",
     "output_type": "stream",
     "text": [
      "the group size is:6\n",
      "the number of remaining students is: 0\n"
     ]
    }
   ],
   "source": [
    " \"\"\"The Head of Computing at the University of Poppleton is tasked with dividing a group of students into lab groups.\n",
    " A lab group is usually 24 students, but this is sometimes varied to create groups of similar size. Write a program that prompts for\n",
    " the number of students and group size, and then displays how many groups will be needed and how many will be le over in a smaller group.\n",
    " How many students? 113\n",
    " Required group size? 22\n",
    " There will be 5 groups with 3 students left over.\n",
    " For bonus credit, see if you can fix the grammar in the output. So if there were 101\n",
    " students in groups of 20 the output would be:\"\"\"\n",
    "\n",
    "students=int(input(\"Enter the number of students present:\"))\n",
    "group=int(input(\"Enter the number of group size:\"))\n",
    "\n",
    "group_size=students//group\n",
    "remaining_students= students % group\n",
    "\n",
    "print(f\"the group size is:{group_size}\")\n",
    "print(f\"the number of remaining students is: {remaining_students}\")\n"
   ]
  },
  {
   "cell_type": "code",
   "execution_count": 7,
   "id": "06034546-de7e-4e21-997d-e750527f007c",
   "metadata": {},
   "outputs": [
    {
     "name": "stdin",
     "output_type": "stream",
     "text": [
      "enter the amount of sweet availble: 100\n",
      "enter the number of pupils: 20\n"
     ]
    },
    {
     "name": "stdout",
     "output_type": "stream",
     "text": [
      "The amount of sweets each pupil gets is 5\n",
      "The amount of sweets remining is 0\n"
     ]
    }
   ],
   "source": [
    "\"\"\" A kindly teacher wishes to distribute a tub of sweets between her pupils. \n",
    "  She will first count the sweets and then divide them according to how many pupils attend that day. \n",
    " Write a program that will tell the teacher how many sweets to give to each pupil, and how many she will have left over\"\"\"\n",
    "\n",
    "sweets=int(input(\"enter the amount of sweet availble:\"))\n",
    "pupils=int(input(\"enter the number of pupils:\"))\n",
    "\n",
    "sweets_for_pupil= sweets//pupils\n",
    "remaining_sweets= sweets % pupils\n",
    "\n",
    "print(f\"The amount of sweets each pupil gets is {sweets_for_pupil}\")\n",
    "print(f\"The amount of sweets remining is {remaining_sweets}\")\n"
   ]
  },
  {
   "cell_type": "code",
   "execution_count": null,
   "id": "de094bd5-7275-42ce-9b9c-a545d17eda28",
   "metadata": {},
   "outputs": [],
   "source": []
  }
 ],
 "metadata": {
  "kernelspec": {
   "display_name": "Python 3 (ipykernel)",
   "language": "python",
   "name": "python3"
  },
  "language_info": {
   "codemirror_mode": {
    "name": "ipython",
    "version": 3
   },
   "file_extension": ".py",
   "mimetype": "text/x-python",
   "name": "python",
   "nbconvert_exporter": "python",
   "pygments_lexer": "ipython3",
   "version": "3.12.3"
  }
 },
 "nbformat": 4,
 "nbformat_minor": 5
}
